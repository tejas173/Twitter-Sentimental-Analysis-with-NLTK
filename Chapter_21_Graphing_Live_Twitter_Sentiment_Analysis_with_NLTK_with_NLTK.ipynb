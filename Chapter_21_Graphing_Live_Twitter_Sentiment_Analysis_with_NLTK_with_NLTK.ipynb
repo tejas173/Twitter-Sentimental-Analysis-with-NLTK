{
  "nbformat": 4,
  "nbformat_minor": 0,
  "metadata": {
    "colab": {
      "provenance": []
    },
    "kernelspec": {
      "name": "python3",
      "display_name": "Python 3"
    },
    "language_info": {
      "name": "python"
    }
  },
  "cells": [
    {
      "cell_type": "code",
      "execution_count": null,
      "metadata": {
        "id": "SSJ-h_XW5Qcf",
        "outputId": "f94dba27-9908-4556-b570-4213a7ec9048",
        "colab": {
          "base_uri": "https://localhost:8080/",
          "height": 477
        }
      },
      "outputs": [
        {
          "output_type": "stream",
          "name": "stderr",
          "text": [
            "Traceback (most recent call last):\n",
            "  File \"/usr/local/lib/python3.7/dist-packages/matplotlib/cbook/__init__.py\", line 196, in process\n",
            "    func(*args, **kwargs)\n",
            "  File \"/usr/local/lib/python3.7/dist-packages/matplotlib/animation.py\", line 951, in _start\n",
            "    self._init_draw()\n",
            "  File \"/usr/local/lib/python3.7/dist-packages/matplotlib/animation.py\", line 1743, in _init_draw\n",
            "    self._draw_frame(next(self.new_frame_seq()))\n",
            "  File \"/usr/local/lib/python3.7/dist-packages/matplotlib/animation.py\", line 1766, in _draw_frame\n",
            "    self._drawn_artists = self._func(framedata, *self._args)\n",
            "  File \"<ipython-input-1-1b2bfb7924eb>\", line 12, in animate\n",
            "    pullData = open(\"twitter-out.txt\",\"r\").read()\n",
            "FileNotFoundError: [Errno 2] No such file or directory: 'twitter-out.txt'\n"
          ]
        },
        {
          "output_type": "display_data",
          "data": {
            "text/plain": [
              "<Figure size 432x288 with 1 Axes>"
            ],
            "image/png": "[encoded data removed]"
          },
          "metadata": {}
        }
      ],
      "source": [
        "import matplotlib.pyplot as plt\n",
        "import matplotlib.animation as animation\n",
        "from matplotlib import style\n",
        "import time\n",
        "\n",
        "style.use(\"ggplot\")\n",
        "\n",
        "fig = plt.figure()\n",
        "ax1 = fig.add_subplot(1,1,1)\n",
        "\n",
        "def animate(i):\n",
        "    pullData = open(\"twitter-out.txt\",\"r\").read()\n",
        "    lines = pullData.split('\\n')\n",
        "\n",
        "    xar = []\n",
        "    yar = []\n",
        "\n",
        "    x = 0\n",
        "    y = 0\n",
        "\n",
        "    for l in lines[-200:]:\n",
        "        x += 1\n",
        "        if \"pos\" in l:\n",
        "            y += 1\n",
        "        elif \"neg\" in l:\n",
        "            y -= 1\n",
        "\n",
        "        xar.append(x)\n",
        "        yar.append(y)\n",
        "\n",
        "    ax1.clear()\n",
        "    ax1.plot(xar,yar)\n",
        "ani = animation.FuncAnimation(fig, animate, interval=1000)\n",
        "plt.show()"
      ]
    }
  ]
}