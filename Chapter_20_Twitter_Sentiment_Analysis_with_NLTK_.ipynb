{
  "cells": [
    {
      "cell_type": "code",
      "execution_count": null,
      "metadata": {
        "colab": {
          "background_save": true,
          "base_uri": "https://localhost:8080/"
        },
        "id": "-ypor3KvgX6G",
        "outputId": "79b74e9a-01e5-4717-b847-b00eeaf8e191"
      },
      "outputs": [
        {
          "name": "stdout",
          "output_type": "stream",
          "text": [
            "401\n",
            "401\n",
            "401\n",
            "401\n",
            "401\n",
            "401\n",
            "401\n",
            "401\n",
            "401\n",
            "401\n",
            "401\n",
            "401\n",
            "401\n",
            "401\n",
            "401\n",
            "401\n",
            "401\n",
            "401\n",
            "401\n",
            "401\n",
            "401\n",
            "401\n",
            "401\n",
            "401\n",
            "401\n",
            "401\n",
            "401\n",
            "401\n"
          ]
        }
      ],
      "source": [
        "import twitter\n",
        "from tweepy import Stream\n",
        "from tweepy import OAuthHandler\n",
        "from tweepy.streaming import StreamListener\n",
        "import json\n",
        "from nltk.sentiment import SentimentAnalyzer\n",
        "\n",
        "#consumer key, consumer secret, access token, access secret.\n",
        "ckey=\"asdfsafsafsaf\"\n",
        "csecret=\"asdfasdfsadfsa\"\n",
        "atoken=\"asdfsadfsafsaf-asdfsaf\"\n",
        "asecret=\"asdfsadfsadfsadfsadfsad\"\n",
        "\n",
        "\n",
        "\n",
        "class listener(StreamListener):\n",
        "\n",
        "    def on_data(self, data):\n",
        "      try:\n",
        "        all_data = json.loads(data)\n",
        "\n",
        "        tweet = all_data[\"text\"]\n",
        "        sentiment_value, confidence = s.sentiment(tweet)\n",
        "        print(tweet, sentiment_value, confidence)\n",
        "\n",
        "        if confidence*100 >= 80:\n",
        "          output = open(\"twitter-out.txt\",\"a\")\n",
        "          output.write(sentiment_value)\n",
        "          output.write('\\n')\n",
        "          output.close()\n",
        "\n",
        "        return True\n",
        "      except:\n",
        "       return True\n",
        "    def on_error(self, status):\n",
        "        print(status)\n",
        "\n",
        "auth = OAuthHandler(ckey, csecret)\n",
        "auth.set_access_token(atoken, asecret)\n",
        "\n",
        "twitterStream = Stream(auth, listener())\n",
        "twitterStream.filter(track=[\"happy\"])"
      ]
    },
    {
      "cell_type": "code",
      "execution_count": null,
      "metadata": {
        "colab": {
          "base_uri": "https://localhost:8080/"
        },
        "id": "unaGlwEhgggY",
        "outputId": "e713cbb0-4efa-4f86-fb6c-dc17ce1fe301"
      },
      "outputs": [
        {
          "name": "stdout",
          "output_type": "stream",
          "text": [
            "Looking in indexes: https://pypi.org/simple, https://us-python.pkg.dev/colab-wheels/public/simple/\n",
            "Collecting twitter\n",
            "  Downloading twitter-1.19.6-py2.py3-none-any.whl (50 kB)\n",
            "\u001b[K     |████████████████████████████████| 50 kB 2.9 MB/s \n",
            "\u001b[?25hRequirement already satisfied: certifi in /usr/local/lib/python3.7/dist-packages (from twitter) (2022.9.24)\n",
            "Installing collected packages: twitter\n",
            "Successfully installed twitter-1.19.6\n"
          ]
        }
      ],
      "source": [
        "!pip install twitter"
      ]
    },
    {
      "cell_type": "code",
      "source": [
        "import matplotlib.pyplot as plt\n",
        "import matplotlib.animation as animation\n",
        "from matplotlib import style\n",
        "import time\n",
        "\n",
        "style.use(\"ggplot\")\n",
        "\n",
        "fig = plt.figure()\n",
        "ax1 = fig.add_subplot(1,1,1)\n",
        "\n",
        "def animate(i):\n",
        "    pullData = open(\"twitter-out.txt\",\"r\").read()\n",
        "    lines = pullData.split('\\n')\n",
        "\n",
        "    xar = []\n",
        "    yar = []\n",
        "\n",
        "    x = 0\n",
        "    y = 0\n",
        "\n",
        "    for l in lines[-200:]:\n",
        "        x += 1\n",
        "        if \"pos\" in l:\n",
        "            y += 1\n",
        "        elif \"neg\" in l:\n",
        "            y -= 1\n",
        "\n",
        "        xar.append(x)\n",
        "        yar.append(y)\n",
        "\n",
        "    ax1.clear()\n",
        "    ax1.plot(xar,yar)\n",
        "ani = animation.FuncAnimation(fig, animate, interval=1000)\n",
        "plt.show()"
      ],
      "metadata": {
        "colab": {
          "base_uri": "https://localhost:8080/"
        },
        "id": "g9r2ZHzzFeaf",
        "outputId": "aafa5f31-d0f3-42a7-a176-ba578af9fcc9"
      },
      "execution_count": null,
      "outputs": [
        {
          "output_type": "stream",
          "name": "stderr",
          "text": [
            "Traceback (most recent call last):\n",
            "  File \"/usr/local/lib/python3.7/dist-packages/matplotlib/cbook/__init__.py\", line 196, in process\n",
            "    func(*args, **kwargs)\n",
            "  File \"/usr/local/lib/python3.7/dist-packages/matplotlib/animation.py\", line 951, in _start\n",
            "    self._init_draw()\n",
            "  File \"/usr/local/lib/python3.7/dist-packages/matplotlib/animation.py\", line 1743, in _init_draw\n",
            "    self._draw_frame(next(self.new_frame_seq()))\n",
            "  File \"/usr/local/lib/python3.7/dist-packages/matplotlib/animation.py\", line 1766, in _draw_frame\n",
            "    self._drawn_artists = self._func(framedata, *self._args)\n",
            "  File \"<ipython-input-1-1b2bfb7924eb>\", line 12, in animate\n",
            "    pullData = open(\"twitter-out.txt\",\"r\").read()\n",
            "FileNotFoundError: [Errno 2] No such file or directory: 'twitter-out.txt'\n"
          ]
        },
        {
          "output_type": "display_data",
          "data": {
            "text/plain": [
              "<Figure size 432x288 with 1 Axes>"
            ],
            "image/png": "[encoded data removed]"
          },
          "metadata": {}
        }
      ]
    }
  ],
  "metadata": {
    "colab": {
      "provenance": []
    },
    "kernelspec": {
      "display_name": "Python 3",
      "name": "python3"
    },
    "language_info": {
      "name": "python"
    }
  },
  "nbformat": 4,
  "nbformat_minor": 0
}